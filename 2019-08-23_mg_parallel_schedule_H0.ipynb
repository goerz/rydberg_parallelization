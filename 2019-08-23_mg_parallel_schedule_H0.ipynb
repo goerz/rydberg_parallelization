{
 "cells": [
  {
   "cell_type": "markdown",
   "metadata": {},
   "source": [
    "# Test the fully parallel propagation of the Rydberg Hamiltonian"
   ]
  },
  {
   "cell_type": "markdown",
   "metadata": {},
   "source": [
    "This propagates only the drift Hamiltonian"
   ]
  },
  {
   "cell_type": "code",
   "execution_count": 1,
   "metadata": {},
   "outputs": [],
   "source": [
    "from pathlib import Path"
   ]
  },
  {
   "cell_type": "code",
   "execution_count": 2,
   "metadata": {},
   "outputs": [],
   "source": [
    "import qutip\n",
    "import numpy as np\n",
    "import matplotlib.pylab as plt\n",
    "import scipy.sparse"
   ]
  },
  {
   "cell_type": "code",
   "execution_count": 3,
   "metadata": {},
   "outputs": [],
   "source": [
    "from src.qdyn.io import read_indexed_matrix\n",
    "from src.qdyn.model import LevelModel\n",
    "from src.qdyn.pulse import Pulse\n",
    "from src.plots import show_spy, plot_population\n",
    "from src.blocksplitting import split_AB, split_AB_blocks, split_diagonal_hamiltonian\n",
    "from src.ham import rydberg_hamiltonian"
   ]
  },
  {
   "cell_type": "code",
   "execution_count": 4,
   "metadata": {},
   "outputs": [],
   "source": [
    "%matplotlib inline"
   ]
  },
  {
   "cell_type": "code",
   "execution_count": 5,
   "metadata": {},
   "outputs": [],
   "source": [
    "V_per_cm = 1.0 / 5.14220624463189208e09"
   ]
  },
  {
   "cell_type": "code",
   "execution_count": 6,
   "metadata": {},
   "outputs": [],
   "source": [
    "# 1-based indices of the initial and target states\n",
    "N_INITIAL = 1423\n",
    "N_TARGET = 2696\n",
    "# size of Hilbert space\n",
    "N_HILBERT = N_TARGET\n",
    "N_THREADS = 12  # number of cores on the machine"
   ]
  },
  {
   "cell_type": "code",
   "execution_count": 7,
   "metadata": {},
   "outputs": [],
   "source": [
    "H = rydberg_hamiltonian(\n",
    "    N_HILBERT,\n",
    "    'data/ham_drift.dat',\n",
    "    'data/ham_sig.dat',\n",
    "    'data/ham_pi.dat',\n",
    "    F_DC=2.5 * V_per_cm,\n",
    "    Omega_sigma=Pulse.read('./data/pulse_sig.dat')\n",
    ")"
   ]
  },
  {
   "cell_type": "code",
   "execution_count": 8,
   "metadata": {},
   "outputs": [],
   "source": [
    "pulse = Pulse.read('./data/pulse_sig.dat')"
   ]
  },
  {
   "cell_type": "code",
   "execution_count": 11,
   "metadata": {},
   "outputs": [],
   "source": [
    "psi0 = qutip.ket([N_INITIAL-1], dim=H[0].shape[0])\n",
    "psi_target = qutip.ket([N_TARGET-1], dim=H[0].shape[0])"
   ]
  },
  {
   "cell_type": "code",
   "execution_count": 12,
   "metadata": {},
   "outputs": [],
   "source": [
    "qdyn_model = LevelModel()"
   ]
  },
  {
   "cell_type": "code",
   "execution_count": 13,
   "metadata": {},
   "outputs": [],
   "source": [
    "schedule_fmt = \"{row},{col},%s,1\" % N_THREADS"
   ]
  },
  {
   "cell_type": "code",
   "execution_count": 14,
   "metadata": {},
   "outputs": [],
   "source": [
    "for (i, H0) in enumerate(split_diagonal_hamiltonian(H[0], N_THREADS)):\n",
    "    qdyn_model.add_ham(\n",
    "        H0,\n",
    "        op_unit='au',\n",
    "        op_type='pot',\n",
    "        schedule=schedule_fmt.format(row=(i + 1), col=1),\n",
    "    )"
   ]
  },
  {
   "cell_type": "code",
   "execution_count": 15,
   "metadata": {},
   "outputs": [],
   "source": [
    "qdyn_model.add_state(psi0, label='initial')"
   ]
  },
  {
   "cell_type": "code",
   "execution_count": 16,
   "metadata": {},
   "outputs": [],
   "source": [
    "qdyn_model.add_state(psi_target, label='target')"
   ]
  },
  {
   "cell_type": "code",
   "execution_count": 17,
   "metadata": {},
   "outputs": [],
   "source": [
    "qdyn_model.add_observable(\n",
    "    qutip.ket2dm(psi0),\n",
    "    'population.dat',\n",
    "    exp_unit='iu',\n",
    "    time_unit='ns',\n",
    "    col_label='initial',\n",
    ")\n",
    "qdyn_model.add_observable(\n",
    "    qutip.ket2dm(psi_target),\n",
    "    'population.dat',\n",
    "    exp_unit='iu',\n",
    "    time_unit='ns',\n",
    "    col_label='target',\n",
    ")"
   ]
  },
  {
   "cell_type": "code",
   "execution_count": 18,
   "metadata": {},
   "outputs": [],
   "source": [
    "qdyn_model.set_propagation(\n",
    "    T=H[1][1].T,\n",
    "    nt=len(H[1][1].states_tgrid),\n",
    "    time_unit=H[1][1].time_unit,\n",
    ")"
   ]
  },
  {
   "cell_type": "code",
   "execution_count": 19,
   "metadata": {},
   "outputs": [],
   "source": [
    "RF = './rf_parallel_schedule_H0'"
   ]
  },
  {
   "cell_type": "code",
   "execution_count": 20,
   "metadata": {},
   "outputs": [],
   "source": [
    "qdyn_model.write_to_runfolder(RF)"
   ]
  },
  {
   "cell_type": "code",
   "execution_count": 21,
   "metadata": {},
   "outputs": [
    {
     "name": "stdout",
     "output_type": "stream",
     "text": [
      "QDYN 2.0dev revision 2b2fa92f1a71e2a8d932a667b7980c5428c8cce7 (rydbergparallel)\n",
      "  features: no-check-cheby, no-check-newton, parallel-ham=DISJUNCT_COLUMN, use-mkl=false, parallel-oct, backtraces, no-debug, no-no-ipo\n",
      "  compiled with ifort on Sat Aug 24 05:55:09 2019 on host katamon\n",
      "***** START OF PROGRAM qdyn_prop_traj ******\n",
      "Sat Aug 24 19:46:53 +0200 2019\n",
      "\n",
      "*** Read config file ./rf_parallel_schedule_H0/config ***\n",
      "*** Done reading config file ***\n",
      "*** Initializing system ***\n",
      "  *** Initializing grid ***\n",
      "  No explicit grid found in config file! Initializing grid as one dimensional 1x1 fake grid\n",
      "    Initializing grid as 1D cartesian grid without mapping\n",
      "      Number of grid points was set to nr = 1 for dimension dim = 1! Initializing dimension 1 as a 1x1 fake-grid...\n",
      "  *** Initializing pulses ***\n",
      "  *** Initializing dynamical generator ***\n",
      "*** Done with initialization ***\n",
      "\n",
      "Completed traj 1/1 in proc 1/1\n",
      "Writing avg in proc 1/1\n",
      "\n",
      "Sat Aug 24 19:47:08 +0200 2019\n",
      "***** END OF PROGRAM qdyn_prop_traj ******\n"
     ]
    },
    {
     "name": "stderr",
     "output_type": "stream",
     "text": [
      "1\n",
      "\n",
      "real\t0m15.227s\n",
      "user\t2m52.266s\n",
      "sys\t0m6.739s\n"
     ]
    }
   ],
   "source": [
    "%%bash -s \"$RF\"\n",
    "qdyn_prop_traj --version\n",
    "time OMP_NUM_THREADS=12 qdyn_prop_traj --state-label=initial $1"
   ]
  },
  {
   "cell_type": "code",
   "execution_count": 22,
   "metadata": {},
   "outputs": [],
   "source": [
    "pop_data = np.genfromtxt((Path(RF) / 'population.dat')).transpose()"
   ]
  },
  {
   "cell_type": "code",
   "execution_count": 23,
   "metadata": {},
   "outputs": [],
   "source": [
    "pop_data_baseline = np.genfromtxt('./rf_baseline/population.dat').transpose()"
   ]
  },
  {
   "cell_type": "code",
   "execution_count": 24,
   "metadata": {},
   "outputs": [
    {
     "data": {
      "image/png": "[encoded data removed]",
      "text/plain": [
       "<Figure size 432x288 with 1 Axes>"
      ]
     },
     "metadata": {
      "needs_background": "light"
     },
     "output_type": "display_data"
    }
   ],
   "source": [
    "plot_population(pop_data)"
   ]
  }
 ],
 "metadata": {
  "kernelspec": {
   "display_name": "Python 3",
   "language": "python",
   "name": "python3"
  },
  "language_info": {
   "codemirror_mode": {
    "name": "ipython",
    "version": 3
   },
   "file_extension": ".py",
   "mimetype": "text/x-python",
   "name": "python",
   "nbconvert_exporter": "python",
   "pygments_lexer": "ipython3",
   "version": "3.7.4"
  }
 },
 "nbformat": 4,
 "nbformat_minor": 2
}
