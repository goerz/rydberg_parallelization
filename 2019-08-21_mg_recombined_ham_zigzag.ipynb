{
 "cells": [
  {
   "cell_type": "markdown",
   "metadata": {},
   "source": [
    "# Recombine blocks the Rydberg Hamiltonian into given number of threads"
   ]
  },
  {
   "cell_type": "markdown",
   "metadata": {},
   "source": [
    "This uses the standard \"multiprocessor scheduling algorithm\" to balance the operator sizes as much as possible, but makes the operators quite disjunct."
   ]
  },
  {
   "cell_type": "code",
   "execution_count": 1,
   "metadata": {},
   "outputs": [],
   "source": [
    "from pathlib import Path"
   ]
  },
  {
   "cell_type": "code",
   "execution_count": 2,
   "metadata": {},
   "outputs": [],
   "source": [
    "import qutip\n",
    "import numpy as np\n",
    "import matplotlib.pylab as plt\n",
    "import scipy.sparse"
   ]
  },
  {
   "cell_type": "code",
   "execution_count": 3,
   "metadata": {},
   "outputs": [],
   "source": [
    "from src.qdyn.io import read_indexed_matrix\n",
    "from src.qdyn.model import LevelModel\n",
    "from src.qdyn.pulse import Pulse\n",
    "from src.plots import show_spy, plot_population\n",
    "from src.blocksplitting import split_AB, split_AB_blocks\n",
    "from src.ham import rydberg_hamiltonian"
   ]
  },
  {
   "cell_type": "code",
   "execution_count": 4,
   "metadata": {},
   "outputs": [],
   "source": [
    "%matplotlib inline"
   ]
  },
  {
   "cell_type": "code",
   "execution_count": 5,
   "metadata": {},
   "outputs": [],
   "source": [
    "V_per_cm = 1.0 / 5.14220624463189208e09"
   ]
  },
  {
   "cell_type": "code",
   "execution_count": 6,
   "metadata": {},
   "outputs": [],
   "source": [
    "# 1-based indices of the initial and target states\n",
    "N_INITIAL = 1423\n",
    "N_TARGET = 2696\n",
    "# size of Hilbert space\n",
    "N_HILBERT = N_TARGET\n",
    "N_THREADS = 12  # number of cores on the machine"
   ]
  },
  {
   "cell_type": "code",
   "execution_count": 7,
   "metadata": {},
   "outputs": [],
   "source": [
    "H = rydberg_hamiltonian(\n",
    "    N_HILBERT,\n",
    "    'data/ham_drift.dat',\n",
    "    'data/ham_sig.dat',\n",
    "    'data/ham_pi.dat',\n",
    "    F_DC=2.5 * V_per_cm,\n",
    "    Omega_sigma=Pulse.read('./data/pulse_sig.dat')\n",
    ")"
   ]
  },
  {
   "cell_type": "code",
   "execution_count": 8,
   "metadata": {},
   "outputs": [],
   "source": [
    "psi0 = qutip.ket([N_INITIAL-1], dim=H[0].shape[0])\n",
    "psi_target = qutip.ket([N_TARGET-1], dim=H[0].shape[0])"
   ]
  },
  {
   "cell_type": "code",
   "execution_count": 9,
   "metadata": {},
   "outputs": [],
   "source": [
    "A, B = split_AB_blocks(\n",
    "    H[1][0].data,\n",
    "    block_info=np.genfromtxt(\"./data/n_states_red_block.dat\", dtype=np.int32),\n",
    "    n=N_HILBERT,\n",
    "    as_qobj=True,\n",
    ")"
   ]
  },
  {
   "cell_type": "code",
   "execution_count": 10,
   "metadata": {},
   "outputs": [],
   "source": [
    "def distribute_zigzag(list_of_blocks, n_threads):\n",
    "    \"\"\"Standard Multiprocessor scheduling algorithm\"\"\"\n",
    "    thread_bins = [[] for _ in range(n_threads)]\n",
    "    thread_filled = np.array([0 for _ in range(n_threads)])\n",
    "    sorted_list_of_blocks = sorted(\n",
    "        list_of_blocks, key=lambda block: block.data.nnz, reverse=True\n",
    "    )\n",
    "    for block in sorted_list_of_blocks:\n",
    "        i_thread = np.argmin(thread_filled)\n",
    "        thread_bins[i_thread].append(block)\n",
    "        thread_filled[i_thread] += block.data.nnz\n",
    "    return thread_bins"
   ]
  },
  {
   "cell_type": "code",
   "execution_count": 11,
   "metadata": {},
   "outputs": [],
   "source": [
    "A_thread_bins = distribute_zigzag(A, N_THREADS)"
   ]
  },
  {
   "cell_type": "code",
   "execution_count": 12,
   "metadata": {},
   "outputs": [
    {
     "data": {
      "text/plain": [
       "[3854, 3853, 3865, 3856, 3850, 3876, 3856, 3864, 3854, 3862, 3906, 3956]"
      ]
     },
     "execution_count": 12,
     "metadata": {},
     "output_type": "execute_result"
    }
   ],
   "source": [
    "[sum(op.data.nnz for op in bin) for bin in A_thread_bins]"
   ]
  },
  {
   "cell_type": "code",
   "execution_count": 13,
   "metadata": {},
   "outputs": [],
   "source": [
    "A_thread_ops = [sum(bin) for bin in A_thread_bins]"
   ]
  },
  {
   "cell_type": "code",
   "execution_count": 14,
   "metadata": {},
   "outputs": [],
   "source": [
    "B_thread_bins = distribute_zigzag(B, N_THREADS-1)"
   ]
  },
  {
   "cell_type": "code",
   "execution_count": 15,
   "metadata": {},
   "outputs": [
    {
     "data": {
      "text/plain": [
       "[4214, 4203, 4231, 4204, 4210, 4240, 4254, 4204, 4240, 4220, 4232]"
      ]
     },
     "execution_count": 15,
     "metadata": {},
     "output_type": "execute_result"
    }
   ],
   "source": [
    "[sum(op.data.nnz for op in bin) for bin in B_thread_bins]"
   ]
  },
  {
   "cell_type": "code",
   "execution_count": 16,
   "metadata": {},
   "outputs": [],
   "source": [
    "B_thread_ops = [sum(bin) for bin in B_thread_bins]"
   ]
  },
  {
   "cell_type": "code",
   "execution_count": 17,
   "metadata": {},
   "outputs": [
    {
     "data": {
      "image/png": "[encoded data removed]",
      "text/plain": [
       "<Figure size 432x288 with 1 Axes>"
      ]
     },
     "metadata": {
      "needs_background": "light"
     },
     "output_type": "display_data"
    }
   ],
   "source": [
    "show_spy(A_thread_ops[11].data, show_diagonal=False, grid=True)"
   ]
  },
  {
   "cell_type": "code",
   "execution_count": 18,
   "metadata": {},
   "outputs": [
    {
     "data": {
      "image/png": "[encoded data removed]",
      "text/plain": [
       "<Figure size 432x288 with 1 Axes>"
      ]
     },
     "metadata": {
      "needs_background": "light"
     },
     "output_type": "display_data"
    }
   ],
   "source": [
    "show_spy(B_thread_ops[10].data, show_diagonal=False, grid=True)"
   ]
  },
  {
   "cell_type": "code",
   "execution_count": 19,
   "metadata": {},
   "outputs": [],
   "source": [
    "qdyn_model = LevelModel()"
   ]
  },
  {
   "cell_type": "code",
   "execution_count": 20,
   "metadata": {},
   "outputs": [],
   "source": [
    "qdyn_model.add_ham(H[0], op_unit='au', op_type='pot')"
   ]
  },
  {
   "cell_type": "code",
   "execution_count": 21,
   "metadata": {},
   "outputs": [],
   "source": [
    "for op in A_thread_ops:\n",
    "    qdyn_model.add_ham(op, pulse=H[1][1], op_unit='au', op_type='dip')"
   ]
  },
  {
   "cell_type": "code",
   "execution_count": 22,
   "metadata": {},
   "outputs": [],
   "source": [
    "for op in B_thread_ops:\n",
    "    qdyn_model.add_ham(op, pulse=H[1][1], op_unit='au', op_type='dip')"
   ]
  },
  {
   "cell_type": "code",
   "execution_count": 23,
   "metadata": {},
   "outputs": [],
   "source": [
    "for op in A_thread_ops:\n",
    "    qdyn_model.add_ham(op.dag(), pulse=H[1][1], op_unit='au', op_type='dip', conjg_pulse=True)"
   ]
  },
  {
   "cell_type": "code",
   "execution_count": 24,
   "metadata": {},
   "outputs": [],
   "source": [
    "for op in B_thread_ops:\n",
    "    qdyn_model.add_ham(op.dag(), pulse=H[1][1], op_unit='au', op_type='dip', conjg_pulse=True)"
   ]
  },
  {
   "cell_type": "code",
   "execution_count": 25,
   "metadata": {},
   "outputs": [],
   "source": [
    "qdyn_model.add_state(psi0, label='initial')"
   ]
  },
  {
   "cell_type": "code",
   "execution_count": 26,
   "metadata": {},
   "outputs": [],
   "source": [
    "qdyn_model.add_state(psi_target, label='target')"
   ]
  },
  {
   "cell_type": "code",
   "execution_count": 27,
   "metadata": {},
   "outputs": [],
   "source": [
    "qdyn_model.add_observable(\n",
    "    qutip.ket2dm(psi0),\n",
    "    'population.dat',\n",
    "    exp_unit='iu',\n",
    "    time_unit='ns',\n",
    "    col_label='initial',\n",
    ")\n",
    "qdyn_model.add_observable(\n",
    "    qutip.ket2dm(psi_target),\n",
    "    'population.dat',\n",
    "    exp_unit='iu',\n",
    "    time_unit='ns',\n",
    "    col_label='target',\n",
    ")"
   ]
  },
  {
   "cell_type": "code",
   "execution_count": 28,
   "metadata": {},
   "outputs": [],
   "source": [
    "qdyn_model.set_propagation(\n",
    "    T=H[1][1].T,\n",
    "    nt=len(H[1][1].states_tgrid),\n",
    "    time_unit=H[1][1].time_unit,\n",
    ")"
   ]
  },
  {
   "cell_type": "code",
   "execution_count": 29,
   "metadata": {},
   "outputs": [],
   "source": [
    "RF = './rf_AB_recombined_zigzag_prop'"
   ]
  },
  {
   "cell_type": "code",
   "execution_count": 30,
   "metadata": {},
   "outputs": [],
   "source": [
    "qdyn_model.write_to_runfolder(RF)"
   ]
  },
  {
   "cell_type": "code",
   "execution_count": 31,
   "metadata": {},
   "outputs": [
    {
     "name": "stdout",
     "output_type": "stream",
     "text": [
      "QDYN 2.0dev revision 92024cace7e6b85565d01814a0de5f5cc9ae8167 (rydbergparallel)\n",
      "  features: no-check-cheby, no-check-newton, no-parallel-ham, use-mkl=sequential, parallel-oct, backtraces, no-debug, no-no-ipo\n",
      "  compiled with ifort on Wed Aug 21 19:45:26 2019 on host katamon\n",
      "***** START OF PROGRAM qdyn_prop_traj ******\n",
      "Wed Aug 21 20:33:47 +0200 2019\n",
      "\n",
      "*** Read config file ./rf_AB_recombined_zigzag_prop/config ***\n",
      "*** Done reading config file ***\n",
      "*** Initializing system ***\n",
      "  *** Initializing grid ***\n",
      "  No explicit grid found in config file! Initializing grid as one dimensional 1x1 fake grid\n",
      "    Initializing grid as 1D cartesian grid without mapping\n",
      "      Number of grid points was set to nr = 1 for dimension dim = 1! Initializing dimension 1 as a 1x1 fake-grid...\n",
      "  *** Initializing pulses ***\n",
      "    1 pulses in config file\n",
      "    Initializing pulse 1\n",
      "  *** Initializing dynamical generator ***\n",
      "*** Done with initialization ***\n",
      "\n",
      "Completed traj 1/1 in proc 1/1\n",
      "Writing avg in proc 1/1\n",
      "\n",
      "Wed Aug 21 20:37:17 +0200 2019\n",
      "***** END OF PROGRAM qdyn_prop_traj ******\n"
     ]
    },
    {
     "name": "stderr",
     "output_type": "stream",
     "text": [
      "1\n",
      "\n",
      "real\t3m30.045s\n",
      "user\t3m29.912s\n",
      "sys\t0m0.132s\n"
     ]
    }
   ],
   "source": [
    "%%bash -s \"$RF\"\n",
    "qdyn_prop_traj --version\n",
    "time OMP_NUM_THREADS=1 qdyn_prop_traj --state-label=initial $1"
   ]
  },
  {
   "cell_type": "code",
   "execution_count": 32,
   "metadata": {},
   "outputs": [],
   "source": [
    "pop_data = np.genfromtxt((Path(RF) / 'population.dat')).transpose()"
   ]
  },
  {
   "cell_type": "code",
   "execution_count": 33,
   "metadata": {},
   "outputs": [],
   "source": [
    "pop_data_baseline = np.genfromtxt('./rf_baseline/population.dat').transpose()"
   ]
  },
  {
   "cell_type": "code",
   "execution_count": 34,
   "metadata": {},
   "outputs": [
    {
     "data": {
      "image/png": "[encoded data removed]",
      "text/plain": [
       "<Figure size 432x288 with 1 Axes>"
      ]
     },
     "metadata": {
      "needs_background": "light"
     },
     "output_type": "display_data"
    }
   ],
   "source": [
    "plot_population(pop_data)"
   ]
  },
  {
   "cell_type": "code",
   "execution_count": null,
   "metadata": {},
   "outputs": [],
   "source": []
  }
 ],
 "metadata": {
  "kernelspec": {
   "display_name": "Python 3",
   "language": "python",
   "name": "python3"
  },
  "language_info": {
   "codemirror_mode": {
    "name": "ipython",
    "version": 3
   },
   "file_extension": ".py",
   "mimetype": "text/x-python",
   "name": "python",
   "nbconvert_exporter": "python",
   "pygments_lexer": "ipython3",
   "version": "3.7.4"
  }
 },
 "nbformat": 4,
 "nbformat_minor": 2
}
